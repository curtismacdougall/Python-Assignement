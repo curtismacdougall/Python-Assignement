{
 "cells": [
  {
   "cell_type": "markdown",
   "id": "208fc2d0-9656-4273-a9f6-02edbb0a9a9a",
   "metadata": {},
   "source": [
    "## **Pyhton Assignment - _PyBank_**"
   ]
  },
  {
   "cell_type": "code",
   "execution_count": 18,
   "id": "d3a0eb28-3721-4aae-821b-51d7527d6850",
   "metadata": {},
   "outputs": [
    {
     "data": {
      "text/plain": [
       "'\\n\\nThis code will analyze the budget data and provide the following information\\n-The total number of months included in the dataset.\\n-The net total amount of Profit/Losses over the entire period.\\n-The average of the changes in Profit/Losses over the entire period.\\n-The greatest increase in profits (date and amount) over the entire period.\\n-The greatest decrease in losses (date and amount) over the entire period.\\n\\n'"
      ]
     },
     "execution_count": 18,
     "metadata": {},
     "output_type": "execute_result"
    }
   ],
   "source": [
    "\n",
    "\"\"\"\n",
    "\n",
    "This code will analyze the budget data and provide the following information\n",
    "-The total number of months included in the dataset.\n",
    "-The net total amount of Profit/Losses over the entire period.\n",
    "-The average of the changes in Profit/Losses over the entire period.\n",
    "-The greatest increase in profits (date and amount) over the entire period.\n",
    "-The greatest decrease in losses (date and amount) over the entire period.\n",
    "\n",
    "\"\"\"\n"
   ]
  },
  {
   "cell_type": "code",
   "execution_count": 1,
   "id": "57f8cb39-7aef-4866-a232-d770a7366af7",
   "metadata": {},
   "outputs": [],
   "source": [
    "# Import libraries and dependencies\n",
    "import pandas as pd\n",
    "from pathlib import Path\n",
    "%matplotlib inline"
   ]
  },
  {
   "cell_type": "code",
   "execution_count": 2,
   "id": "50df3cd1-604e-47b8-849f-79ca1657dab4",
   "metadata": {},
   "outputs": [
    {
     "data": {
      "text/html": [
       "<div>\n",
       "<style scoped>\n",
       "    .dataframe tbody tr th:only-of-type {\n",
       "        vertical-align: middle;\n",
       "    }\n",
       "\n",
       "    .dataframe tbody tr th {\n",
       "        vertical-align: top;\n",
       "    }\n",
       "\n",
       "    .dataframe thead th {\n",
       "        text-align: right;\n",
       "    }\n",
       "</style>\n",
       "<table border=\"1\" class=\"dataframe\">\n",
       "  <thead>\n",
       "    <tr style=\"text-align: right;\">\n",
       "      <th></th>\n",
       "      <th>Profit/Losses</th>\n",
       "    </tr>\n",
       "    <tr>\n",
       "      <th>Date</th>\n",
       "      <th></th>\n",
       "    </tr>\n",
       "  </thead>\n",
       "  <tbody>\n",
       "    <tr>\n",
       "      <th>Jan-2010</th>\n",
       "      <td>867884</td>\n",
       "    </tr>\n",
       "    <tr>\n",
       "      <th>Feb-2010</th>\n",
       "      <td>984655</td>\n",
       "    </tr>\n",
       "    <tr>\n",
       "      <th>Mar-2010</th>\n",
       "      <td>322013</td>\n",
       "    </tr>\n",
       "    <tr>\n",
       "      <th>Apr-2010</th>\n",
       "      <td>-69417</td>\n",
       "    </tr>\n",
       "    <tr>\n",
       "      <th>May-2010</th>\n",
       "      <td>310503</td>\n",
       "    </tr>\n",
       "  </tbody>\n",
       "</table>\n",
       "</div>"
      ],
      "text/plain": [
       "          Profit/Losses\n",
       "Date                   \n",
       "Jan-2010         867884\n",
       "Feb-2010         984655\n",
       "Mar-2010         322013\n",
       "Apr-2010         -69417\n",
       "May-2010         310503"
      ]
     },
     "execution_count": 2,
     "metadata": {},
     "output_type": "execute_result"
    }
   ],
   "source": [
    "# set file path\n",
    "budget_data = Path(\"budget_data.csv\")\n",
    "\n",
    "# Read CSV file and set Date solum as the index\n",
    "df = pd.read_csv(budget_data, index_col=\"Date\")\n",
    "df.head()"
   ]
  },
  {
   "cell_type": "code",
   "execution_count": 3,
   "id": "6806ce7d-f154-4d73-a741-637393a87b81",
   "metadata": {},
   "outputs": [
    {
     "name": "stdout",
     "output_type": "stream",
     "text": [
      "86\n"
     ]
    }
   ],
   "source": [
    "# Using count funtion determine total months in dataframe\n",
    "total_months = df['Profit/Losses'].count()\n",
    "print(total_months)"
   ]
  },
  {
   "cell_type": "code",
   "execution_count": 4,
   "id": "af5b7dd6-5f11-4ac4-bc0a-2e254deddcf7",
   "metadata": {},
   "outputs": [
    {
     "name": "stdout",
     "output_type": "stream",
     "text": [
      "38382578\n"
     ]
    }
   ],
   "source": [
    "# Using sum fucntion determine total net profit\n",
    "net_profit = df['Profit/Losses'].sum()\n",
    "print(net_profit)"
   ]
  },
  {
   "cell_type": "code",
   "execution_count": 5,
   "id": "28e4fe0e-cd90-45f0-8645-4138aa7a6e14",
   "metadata": {},
   "outputs": [
    {
     "data": {
      "text/html": [
       "<div>\n",
       "<style scoped>\n",
       "    .dataframe tbody tr th:only-of-type {\n",
       "        vertical-align: middle;\n",
       "    }\n",
       "\n",
       "    .dataframe tbody tr th {\n",
       "        vertical-align: top;\n",
       "    }\n",
       "\n",
       "    .dataframe thead th {\n",
       "        text-align: right;\n",
       "    }\n",
       "</style>\n",
       "<table border=\"1\" class=\"dataframe\">\n",
       "  <thead>\n",
       "    <tr style=\"text-align: right;\">\n",
       "      <th></th>\n",
       "      <th>Profit/Losses</th>\n",
       "      <th>Previous_Month_Profit/Loss</th>\n",
       "    </tr>\n",
       "    <tr>\n",
       "      <th>Date</th>\n",
       "      <th></th>\n",
       "      <th></th>\n",
       "    </tr>\n",
       "  </thead>\n",
       "  <tbody>\n",
       "    <tr>\n",
       "      <th>Jan-2010</th>\n",
       "      <td>867884</td>\n",
       "      <td>NaN</td>\n",
       "    </tr>\n",
       "    <tr>\n",
       "      <th>Feb-2010</th>\n",
       "      <td>984655</td>\n",
       "      <td>867884.0</td>\n",
       "    </tr>\n",
       "    <tr>\n",
       "      <th>Mar-2010</th>\n",
       "      <td>322013</td>\n",
       "      <td>984655.0</td>\n",
       "    </tr>\n",
       "    <tr>\n",
       "      <th>Apr-2010</th>\n",
       "      <td>-69417</td>\n",
       "      <td>322013.0</td>\n",
       "    </tr>\n",
       "    <tr>\n",
       "      <th>May-2010</th>\n",
       "      <td>310503</td>\n",
       "      <td>-69417.0</td>\n",
       "    </tr>\n",
       "  </tbody>\n",
       "</table>\n",
       "</div>"
      ],
      "text/plain": [
       "          Profit/Losses  Previous_Month_Profit/Loss\n",
       "Date                                               \n",
       "Jan-2010         867884                         NaN\n",
       "Feb-2010         984655                    867884.0\n",
       "Mar-2010         322013                    984655.0\n",
       "Apr-2010         -69417                    322013.0\n",
       "May-2010         310503                    -69417.0"
      ]
     },
     "execution_count": 5,
     "metadata": {},
     "output_type": "execute_result"
    }
   ],
   "source": [
    "# add column labelled previous month profit/loss using shift function, display sample data \n",
    "df['Previous_Month_Profit/Loss'] = df['Profit/Losses'].shift(1)\n",
    "df.head()"
   ]
  },
  {
   "cell_type": "code",
   "execution_count": 6,
   "id": "268e3b11-9e0e-4557-9fe7-524bbaa4da94",
   "metadata": {},
   "outputs": [
    {
     "data": {
      "text/html": [
       "<div>\n",
       "<style scoped>\n",
       "    .dataframe tbody tr th:only-of-type {\n",
       "        vertical-align: middle;\n",
       "    }\n",
       "\n",
       "    .dataframe tbody tr th {\n",
       "        vertical-align: top;\n",
       "    }\n",
       "\n",
       "    .dataframe thead th {\n",
       "        text-align: right;\n",
       "    }\n",
       "</style>\n",
       "<table border=\"1\" class=\"dataframe\">\n",
       "  <thead>\n",
       "    <tr style=\"text-align: right;\">\n",
       "      <th></th>\n",
       "      <th>Profit/Losses</th>\n",
       "      <th>Previous_Month_Profit/Loss</th>\n",
       "      <th>Monthly_Change</th>\n",
       "    </tr>\n",
       "    <tr>\n",
       "      <th>Date</th>\n",
       "      <th></th>\n",
       "      <th></th>\n",
       "      <th></th>\n",
       "    </tr>\n",
       "  </thead>\n",
       "  <tbody>\n",
       "    <tr>\n",
       "      <th>Jan-2010</th>\n",
       "      <td>867884</td>\n",
       "      <td>NaN</td>\n",
       "      <td>NaN</td>\n",
       "    </tr>\n",
       "    <tr>\n",
       "      <th>Feb-2010</th>\n",
       "      <td>984655</td>\n",
       "      <td>867884.0</td>\n",
       "      <td>116771.0</td>\n",
       "    </tr>\n",
       "    <tr>\n",
       "      <th>Mar-2010</th>\n",
       "      <td>322013</td>\n",
       "      <td>984655.0</td>\n",
       "      <td>-662642.0</td>\n",
       "    </tr>\n",
       "    <tr>\n",
       "      <th>Apr-2010</th>\n",
       "      <td>-69417</td>\n",
       "      <td>322013.0</td>\n",
       "      <td>-391430.0</td>\n",
       "    </tr>\n",
       "    <tr>\n",
       "      <th>May-2010</th>\n",
       "      <td>310503</td>\n",
       "      <td>-69417.0</td>\n",
       "      <td>379920.0</td>\n",
       "    </tr>\n",
       "  </tbody>\n",
       "</table>\n",
       "</div>"
      ],
      "text/plain": [
       "          Profit/Losses  Previous_Month_Profit/Loss  Monthly_Change\n",
       "Date                                                               \n",
       "Jan-2010         867884                         NaN             NaN\n",
       "Feb-2010         984655                    867884.0        116771.0\n",
       "Mar-2010         322013                    984655.0       -662642.0\n",
       "Apr-2010         -69417                    322013.0       -391430.0\n",
       "May-2010         310503                    -69417.0        379920.0"
      ]
     },
     "execution_count": 6,
     "metadata": {},
     "output_type": "execute_result"
    }
   ],
   "source": [
    "# add column labelled Monthly Change to change in profit/losses month over month, display sample data \n",
    "df['Monthly_Change'] = df['Profit/Losses'] - df['Previous_Month_Profit/Loss']\n",
    "df.head()"
   ]
  },
  {
   "cell_type": "code",
   "execution_count": 7,
   "id": "f9350b64-eec0-4b6c-9ab5-6958cb9a1aac",
   "metadata": {},
   "outputs": [
    {
     "name": "stdout",
     "output_type": "stream",
     "text": [
      "-2315\n"
     ]
    }
   ],
   "source": [
    "# Caclulate average monthly change using mean function\n",
    "average = round(df['Monthly_Change'].mean())\n",
    "print(average)"
   ]
  },
  {
   "cell_type": "code",
   "execution_count": 8,
   "id": "2c0f6c46-e12e-4d18-b879-3e0040f7e7c6",
   "metadata": {},
   "outputs": [
    {
     "name": "stdout",
     "output_type": "stream",
     "text": [
      "1926159\n"
     ]
    }
   ],
   "source": [
    "# determine greatest increase using max function\n",
    "greatest_increase = round(df['Monthly_Change'].max())\n",
    "print(greatest_increase)"
   ]
  },
  {
   "cell_type": "code",
   "execution_count": 9,
   "id": "738bcb93-fd0d-445f-a1e5-c373787b0b7f",
   "metadata": {},
   "outputs": [
    {
     "name": "stdout",
     "output_type": "stream",
     "text": [
      "-2196167\n"
     ]
    }
   ],
   "source": [
    "# determine greatest decrease using max function\n",
    "greatest_decrease = round(df['Monthly_Change'].min())\n",
    "print(greatest_decrease)"
   ]
  },
  {
   "cell_type": "code",
   "execution_count": 10,
   "id": "89768d11-b74a-43a8-ad3c-94fc45bc41d3",
   "metadata": {},
   "outputs": [
    {
     "name": "stdout",
     "output_type": "stream",
     "text": [
      "Feb-2012\n"
     ]
    }
   ],
   "source": [
    "# determine month in which greatest increase occured using idxmax function\n",
    "greatest_increase_month = df['Monthly_Change'].idxmax()\n",
    "print(greatest_increase_month)"
   ]
  },
  {
   "cell_type": "code",
   "execution_count": 11,
   "id": "9f42f700-f4c2-4261-b84b-17812db5275d",
   "metadata": {},
   "outputs": [
    {
     "name": "stdout",
     "output_type": "stream",
     "text": [
      "Sep-2013\n"
     ]
    }
   ],
   "source": [
    "# determine month in which greatest decrease occured using idxmax function\n",
    "greatest_decrease_month = df['Monthly_Change'].idxmin()\n",
    "print(greatest_decrease_month)"
   ]
  },
  {
   "cell_type": "code",
   "execution_count": 12,
   "id": "9ba87319-b69b-47e6-8b97-b15c233468a2",
   "metadata": {},
   "outputs": [
    {
     "name": "stdout",
     "output_type": "stream",
     "text": [
      "Financial Analysis\n",
      "---------------------------------\n",
      "Total Months: 86\n",
      "Total: $38382578\n",
      "Average Change: $-2315\n",
      "Greatest Increase in Profits: Feb-2012 $1926159\n",
      "Greatest Decrease in Profits: Sep-2013 $-2196167\n"
     ]
    }
   ],
   "source": [
    "# Print results \n",
    "print('Financial Analysis')\n",
    "print('---------------------------------')\n",
    "print(f\"Total Months: {total_months}\")\n",
    "print(f\"Total: ${net_profit}\")\n",
    "print(f\"Average Change: ${average}\")\n",
    "print(f\"Greatest Increase in Profits: {greatest_increase_month} ${greatest_increase}\")\n",
    "print(f\"Greatest Decrease in Profits: {greatest_decrease_month} ${greatest_decrease}\")"
   ]
  },
  {
   "cell_type": "code",
   "execution_count": 13,
   "id": "41e25067-a167-4830-8465-26dbda319802",
   "metadata": {},
   "outputs": [],
   "source": [
    "# Output results to text file\n",
    "output_path = Path('output.txt')\n",
    "with open (output_path, 'w') as file:\n",
    "    file.write('Financial Analysis\\n')\n",
    "    file.write('---------------------------------\\n')\n",
    "    file.write(f\"Total Months: {total_months}\\n\")\n",
    "    file.write(f\"Total: ${net_profit}\\n\")\n",
    "    file.write(f\"Average Change: ${average}\\n\")\n",
    "    file.write(f\"Greatest Increase in Profits: {greatest_increase_month} ${greatest_increase}\\n\")\n",
    "    file.write(f\"Greatest Decrease in Profits: {greatest_decrease_month} ${greatest_decrease}\\n\")"
   ]
  },
  {
   "cell_type": "code",
   "execution_count": null,
   "id": "1b502c19-304c-4e2a-97fc-3465d1745dc8",
   "metadata": {},
   "outputs": [],
   "source": []
  },
  {
   "cell_type": "code",
   "execution_count": null,
   "id": "1bc5ec85-a4a9-4469-88ad-7b2f57d4042e",
   "metadata": {},
   "outputs": [],
   "source": []
  }
 ],
 "metadata": {
  "kernelspec": {
   "display_name": "Python 3",
   "language": "python",
   "name": "python3"
  },
  "language_info": {
   "codemirror_mode": {
    "name": "ipython",
    "version": 3
   },
   "file_extension": ".py",
   "mimetype": "text/x-python",
   "name": "python",
   "nbconvert_exporter": "python",
   "pygments_lexer": "ipython3",
   "version": "3.8.8"
  }
 },
 "nbformat": 4,
 "nbformat_minor": 5
}

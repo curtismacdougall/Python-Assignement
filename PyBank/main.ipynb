{
 "cells": [
  {
   "cell_type": "markdown",
   "id": "7208c890-9e8b-4082-88cc-671e34506789",
   "metadata": {},
   "source": [
    "# **Assignment 2 - _PyBank_**"
   ]
  },
  {
   "cell_type": "code",
   "execution_count": null,
   "id": "ba54b7ad-2882-4e16-8a3b-c09f65b6ad90",
   "metadata": {},
   "outputs": [],
   "source": [
    "\"\"\"\n",
    "\n",
    "This code will anylyze the budget data (budget_dat.csv) and output the follwing information to a text file:\n",
    "\n",
    "\n"
   ]
  }
 ],
 "metadata": {
  "kernelspec": {
   "display_name": "Python 3",
   "language": "python",
   "name": "python3"
  },
  "language_info": {
   "codemirror_mode": {
    "name": "ipython",
    "version": 3
   },
   "file_extension": ".py",
   "mimetype": "text/x-python",
   "name": "python",
   "nbconvert_exporter": "python",
   "pygments_lexer": "ipython3",
   "version": "3.8.8"
  }
 },
 "nbformat": 4,
 "nbformat_minor": 5
}
